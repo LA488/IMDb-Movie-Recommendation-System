{
 "cells": [
  {
   "cell_type": "markdown",
   "id": "44ed2e06-b912-428d-b901-2a0d918291a7",
   "metadata": {},
   "source": [
    "### Разведочный анализ данных (**EDA**)"
   ]
  },
  {
   "cell_type": "code",
   "execution_count": null,
   "id": "569b973c-c200-4344-b793-6fec84aeaac6",
   "metadata": {},
   "outputs": [],
   "source": [
    "import pandas as pd"
   ]
  }
 ],
 "metadata": {
  "kernelspec": {
   "display_name": "Python 3 (ipykernel)",
   "language": "python",
   "name": "python3"
  },
  "language_info": {
   "codemirror_mode": {
    "name": "ipython",
    "version": 3
   },
   "file_extension": ".py",
   "mimetype": "text/x-python",
   "name": "python",
   "nbconvert_exporter": "python",
   "pygments_lexer": "ipython3",
   "version": "3.12.6"
  }
 },
 "nbformat": 4,
 "nbformat_minor": 5
}
