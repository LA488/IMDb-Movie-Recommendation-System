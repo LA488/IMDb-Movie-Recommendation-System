{
 "cells": [
  {
   "cell_type": "markdown",
   "id": "44ed2e06-b912-428d-b901-2a0d918291a7",
   "metadata": {},
   "source": [
    "# Разведочный анализ данных (**EDA**)"
   ]
  },
  {
   "cell_type": "code",
   "execution_count": 9,
   "id": "569b973c-c200-4344-b793-6fec84aeaac6",
   "metadata": {
    "ExecuteTime": {
     "end_time": "2025-09-26T16:28:29.600138Z",
     "start_time": "2025-09-26T16:28:29.559576Z"
    }
   },
   "outputs": [
    {
     "data": {
      "text/html": [
       "<div>\n",
       "<style scoped>\n",
       "    .dataframe tbody tr th:only-of-type {\n",
       "        vertical-align: middle;\n",
       "    }\n",
       "\n",
       "    .dataframe tbody tr th {\n",
       "        vertical-align: top;\n",
       "    }\n",
       "\n",
       "    .dataframe thead th {\n",
       "        text-align: right;\n",
       "    }\n",
       "</style>\n",
       "<table border=\"1\" class=\"dataframe\">\n",
       "  <thead>\n",
       "    <tr style=\"text-align: right;\">\n",
       "      <th></th>\n",
       "      <th>Poster_Link</th>\n",
       "      <th>Series_Title</th>\n",
       "      <th>Released_Year</th>\n",
       "      <th>Certificate</th>\n",
       "      <th>Runtime</th>\n",
       "      <th>Genre</th>\n",
       "      <th>IMDB_Rating</th>\n",
       "      <th>Overview</th>\n",
       "      <th>Meta_score</th>\n",
       "      <th>Director</th>\n",
       "      <th>Star1</th>\n",
       "      <th>Star2</th>\n",
       "      <th>Star3</th>\n",
       "      <th>Star4</th>\n",
       "      <th>No_of_Votes</th>\n",
       "      <th>Gross</th>\n",
       "    </tr>\n",
       "  </thead>\n",
       "  <tbody>\n",
       "    <tr>\n",
       "      <th>0</th>\n",
       "      <td>https://m.media-amazon.com/images/M/MV5BMDFkYT...</td>\n",
       "      <td>The Shawshank Redemption</td>\n",
       "      <td>1994</td>\n",
       "      <td>A</td>\n",
       "      <td>142 min</td>\n",
       "      <td>Drama</td>\n",
       "      <td>9.3</td>\n",
       "      <td>Two imprisoned men bond over a number of years...</td>\n",
       "      <td>80.0</td>\n",
       "      <td>Frank Darabont</td>\n",
       "      <td>Tim Robbins</td>\n",
       "      <td>Morgan Freeman</td>\n",
       "      <td>Bob Gunton</td>\n",
       "      <td>William Sadler</td>\n",
       "      <td>2343110</td>\n",
       "      <td>28,341,469</td>\n",
       "    </tr>\n",
       "    <tr>\n",
       "      <th>1</th>\n",
       "      <td>https://m.media-amazon.com/images/M/MV5BM2MyNj...</td>\n",
       "      <td>The Godfather</td>\n",
       "      <td>1972</td>\n",
       "      <td>A</td>\n",
       "      <td>175 min</td>\n",
       "      <td>Crime, Drama</td>\n",
       "      <td>9.2</td>\n",
       "      <td>An organized crime dynasty's aging patriarch t...</td>\n",
       "      <td>100.0</td>\n",
       "      <td>Francis Ford Coppola</td>\n",
       "      <td>Marlon Brando</td>\n",
       "      <td>Al Pacino</td>\n",
       "      <td>James Caan</td>\n",
       "      <td>Diane Keaton</td>\n",
       "      <td>1620367</td>\n",
       "      <td>134,966,411</td>\n",
       "    </tr>\n",
       "    <tr>\n",
       "      <th>2</th>\n",
       "      <td>https://m.media-amazon.com/images/M/MV5BMTMxNT...</td>\n",
       "      <td>The Dark Knight</td>\n",
       "      <td>2008</td>\n",
       "      <td>UA</td>\n",
       "      <td>152 min</td>\n",
       "      <td>Action, Crime, Drama</td>\n",
       "      <td>9.0</td>\n",
       "      <td>When the menace known as the Joker wreaks havo...</td>\n",
       "      <td>84.0</td>\n",
       "      <td>Christopher Nolan</td>\n",
       "      <td>Christian Bale</td>\n",
       "      <td>Heath Ledger</td>\n",
       "      <td>Aaron Eckhart</td>\n",
       "      <td>Michael Caine</td>\n",
       "      <td>2303232</td>\n",
       "      <td>534,858,444</td>\n",
       "    </tr>\n",
       "    <tr>\n",
       "      <th>3</th>\n",
       "      <td>https://m.media-amazon.com/images/M/MV5BMWMwMG...</td>\n",
       "      <td>The Godfather: Part II</td>\n",
       "      <td>1974</td>\n",
       "      <td>A</td>\n",
       "      <td>202 min</td>\n",
       "      <td>Crime, Drama</td>\n",
       "      <td>9.0</td>\n",
       "      <td>The early life and career of Vito Corleone in ...</td>\n",
       "      <td>90.0</td>\n",
       "      <td>Francis Ford Coppola</td>\n",
       "      <td>Al Pacino</td>\n",
       "      <td>Robert De Niro</td>\n",
       "      <td>Robert Duvall</td>\n",
       "      <td>Diane Keaton</td>\n",
       "      <td>1129952</td>\n",
       "      <td>57,300,000</td>\n",
       "    </tr>\n",
       "    <tr>\n",
       "      <th>4</th>\n",
       "      <td>https://m.media-amazon.com/images/M/MV5BMWU4N2...</td>\n",
       "      <td>12 Angry Men</td>\n",
       "      <td>1957</td>\n",
       "      <td>U</td>\n",
       "      <td>96 min</td>\n",
       "      <td>Crime, Drama</td>\n",
       "      <td>9.0</td>\n",
       "      <td>A jury holdout attempts to prevent a miscarria...</td>\n",
       "      <td>96.0</td>\n",
       "      <td>Sidney Lumet</td>\n",
       "      <td>Henry Fonda</td>\n",
       "      <td>Lee J. Cobb</td>\n",
       "      <td>Martin Balsam</td>\n",
       "      <td>John Fiedler</td>\n",
       "      <td>689845</td>\n",
       "      <td>4,360,000</td>\n",
       "    </tr>\n",
       "  </tbody>\n",
       "</table>\n",
       "</div>"
      ],
      "text/plain": [
       "                                         Poster_Link  \\\n",
       "0  https://m.media-amazon.com/images/M/MV5BMDFkYT...   \n",
       "1  https://m.media-amazon.com/images/M/MV5BM2MyNj...   \n",
       "2  https://m.media-amazon.com/images/M/MV5BMTMxNT...   \n",
       "3  https://m.media-amazon.com/images/M/MV5BMWMwMG...   \n",
       "4  https://m.media-amazon.com/images/M/MV5BMWU4N2...   \n",
       "\n",
       "               Series_Title Released_Year Certificate  Runtime  \\\n",
       "0  The Shawshank Redemption          1994           A  142 min   \n",
       "1             The Godfather          1972           A  175 min   \n",
       "2           The Dark Knight          2008          UA  152 min   \n",
       "3    The Godfather: Part II          1974           A  202 min   \n",
       "4              12 Angry Men          1957           U   96 min   \n",
       "\n",
       "                  Genre  IMDB_Rating  \\\n",
       "0                 Drama          9.3   \n",
       "1          Crime, Drama          9.2   \n",
       "2  Action, Crime, Drama          9.0   \n",
       "3          Crime, Drama          9.0   \n",
       "4          Crime, Drama          9.0   \n",
       "\n",
       "                                            Overview  Meta_score  \\\n",
       "0  Two imprisoned men bond over a number of years...        80.0   \n",
       "1  An organized crime dynasty's aging patriarch t...       100.0   \n",
       "2  When the menace known as the Joker wreaks havo...        84.0   \n",
       "3  The early life and career of Vito Corleone in ...        90.0   \n",
       "4  A jury holdout attempts to prevent a miscarria...        96.0   \n",
       "\n",
       "               Director           Star1           Star2          Star3  \\\n",
       "0        Frank Darabont     Tim Robbins  Morgan Freeman     Bob Gunton   \n",
       "1  Francis Ford Coppola   Marlon Brando       Al Pacino     James Caan   \n",
       "2     Christopher Nolan  Christian Bale    Heath Ledger  Aaron Eckhart   \n",
       "3  Francis Ford Coppola       Al Pacino  Robert De Niro  Robert Duvall   \n",
       "4          Sidney Lumet     Henry Fonda     Lee J. Cobb  Martin Balsam   \n",
       "\n",
       "            Star4  No_of_Votes        Gross  \n",
       "0  William Sadler      2343110   28,341,469  \n",
       "1    Diane Keaton      1620367  134,966,411  \n",
       "2   Michael Caine      2303232  534,858,444  \n",
       "3    Diane Keaton      1129952   57,300,000  \n",
       "4    John Fiedler       689845    4,360,000  "
      ]
     },
     "execution_count": 9,
     "metadata": {},
     "output_type": "execute_result"
    }
   ],
   "source": [
    "import numpy as np\n",
    "import pandas as pd\n",
    "import matplotlib.pyplot as plt\n",
    "import seaborn as sns\n",
    "\n",
    "# Настройка визуализации\n",
    "pd.set_option(\"display.max_columns\", None)\n",
    "\n",
    "# Загрузка данных\n",
    "df = pd.read_csv('../data/raw/imdb_top_1000.csv')\n",
    "df.head()"
   ]
  },
  {
   "cell_type": "code",
   "execution_count": 5,
   "id": "419ea15a-ac99-400d-a2d6-169b64f82760",
   "metadata": {},
   "outputs": [
    {
     "data": {
      "text/plain": [
       "(1000, 16)"
      ]
     },
     "execution_count": 5,
     "metadata": {},
     "output_type": "execute_result"
    }
   ],
   "source": [
    "# Количество строк и колонок\n",
    "df.shape"
   ]
  },
  {
   "cell_type": "code",
   "execution_count": 5,
   "id": "f2d7e15a05216ddf",
   "metadata": {
    "ExecuteTime": {
     "end_time": "2025-09-24T11:41:02.647574Z",
     "start_time": "2025-09-24T11:41:02.628642Z"
    }
   },
   "outputs": [
    {
     "name": "stdout",
     "output_type": "stream",
     "text": [
      "<class 'pandas.core.frame.DataFrame'>\n",
      "RangeIndex: 1000 entries, 0 to 999\n",
      "Data columns (total 16 columns):\n",
      " #   Column         Non-Null Count  Dtype  \n",
      "---  ------         --------------  -----  \n",
      " 0   Poster_Link    1000 non-null   object \n",
      " 1   Series_Title   1000 non-null   object \n",
      " 2   Released_Year  1000 non-null   object \n",
      " 3   Certificate    899 non-null    object \n",
      " 4   Runtime        1000 non-null   object \n",
      " 5   Genre          1000 non-null   object \n",
      " 6   IMDB_Rating    1000 non-null   float64\n",
      " 7   Overview       1000 non-null   object \n",
      " 8   Meta_score     843 non-null    float64\n",
      " 9   Director       1000 non-null   object \n",
      " 10  Star1          1000 non-null   object \n",
      " 11  Star2          1000 non-null   object \n",
      " 12  Star3          1000 non-null   object \n",
      " 13  Star4          1000 non-null   object \n",
      " 14  No_of_Votes    1000 non-null   int64  \n",
      " 15  Gross          831 non-null    object \n",
      "dtypes: float64(2), int64(1), object(13)\n",
      "memory usage: 125.1+ KB\n"
     ]
    }
   ],
   "source": [
    "# Общая информация по датасету\n",
    "df.info()"
   ]
  },
  {
   "cell_type": "markdown",
   "id": "23422d87-bdda-4890-91de-180b5d5aea5a",
   "metadata": {},
   "source": [
    "## Перевод всех признаков датасета IMDb :\n",
    "\n",
    "##### 1. Poster_Link - Веб-ссылка (URL)\n",
    "\n",
    "##### 2. Series_Title - Название фильма\n",
    "\n",
    "##### 3. Released_Year - Год выпуска\n",
    "\n",
    "##### 4. Certificate - Сертификат\n",
    "\n",
    "##### 5. Runtime - Продолжительность\n",
    "\n",
    "##### 6. Genre - Жанр\n",
    "\n",
    "##### 7. IMDB_Rating - Рейтинг IMDB\n",
    "\n",
    "##### 8. Overview - Описание\n",
    "\n",
    "##### 9. Meta_score - Мета-оценка\n",
    "\n",
    "##### 10. Director - Режиссер\n",
    "\n",
    "##### 11-14. Star1, Star2, Star3, Star4 - Имена четырех главных актеров, звезд фильма.\n",
    "\n",
    "##### 15. No_of_votes - Количество_голосов\n",
    "\n",
    "##### 16. Gross - Сборы"
   ]
  },
  {
   "cell_type": "code",
   "execution_count": 6,
   "id": "b99fc1b9-fbe3-4748-afe1-aaaacd70127b",
   "metadata": {},
   "outputs": [
    {
     "data": {
      "text/plain": [
       "Poster_Link        0\n",
       "Series_Title       0\n",
       "Released_Year      0\n",
       "Certificate      101\n",
       "Runtime            0\n",
       "Genre              0\n",
       "IMDB_Rating        0\n",
       "Overview           0\n",
       "Meta_score       157\n",
       "Director           0\n",
       "Star1              0\n",
       "Star2              0\n",
       "Star3              0\n",
       "Star4              0\n",
       "No_of_Votes        0\n",
       "Gross            169\n",
       "dtype: int64"
      ]
     },
     "execution_count": 6,
     "metadata": {},
     "output_type": "execute_result"
    }
   ],
   "source": [
    "# Количество пропусков\n",
    "df.isnull().sum()"
   ]
  },
  {
   "cell_type": "code",
   "execution_count": 15,
   "id": "56da1d9c-8270-43b4-b4c8-a738441be1d8",
   "metadata": {},
   "outputs": [
    {
     "data": {
      "text/plain": [
       "0      1994.0\n",
       "1      1972.0\n",
       "2      2008.0\n",
       "3      1974.0\n",
       "4      1957.0\n",
       "        ...  \n",
       "995    1961.0\n",
       "996    1956.0\n",
       "997    1953.0\n",
       "998    1944.0\n",
       "999    1935.0\n",
       "Name: Released_Year, Length: 1000, dtype: float64"
      ]
     },
     "execution_count": 15,
     "metadata": {},
     "output_type": "execute_result"
    }
   ],
   "source": [
    "# Преобразование категориального признака Released_Year в числовой признак\n",
    "df['Released_Year'] = pd.to_numeric(df['Released_Year'], errors='coerce')\n",
    "df['Released_Year']"
   ]
  },
  {
   "cell_type": "code",
   "execution_count": 12,
   "id": "a35c6248-2c0f-4e4a-8fc9-ba3b0cf425a9",
   "metadata": {},
   "outputs": [
    {
     "data": {
      "text/plain": [
       "0      142.0\n",
       "1      175.0\n",
       "2      152.0\n",
       "3      202.0\n",
       "4       96.0\n",
       "       ...  \n",
       "995    115.0\n",
       "996    201.0\n",
       "997    118.0\n",
       "998     97.0\n",
       "999     86.0\n",
       "Name: Runtime, Length: 1000, dtype: float64"
      ]
     },
     "execution_count": 12,
     "metadata": {},
     "output_type": "execute_result"
    }
   ],
   "source": [
    "# Предобработка категориального признака Runtime и преобразование в числовой признак\n",
    "df['Runtime'] = df['Runtime'].str.replace(\" min\", \"\").astype(float)\n",
    "df['Runtime']"
   ]
  },
  {
   "cell_type": "code",
   "execution_count": 16,
   "id": "a1e9308f61da391f",
   "metadata": {},
   "outputs": [
    {
     "data": {
      "text/plain": [
       "0       28341469.0\n",
       "1      134966411.0\n",
       "2      534858444.0\n",
       "3       57300000.0\n",
       "4        4360000.0\n",
       "          ...     \n",
       "995            NaN\n",
       "996            NaN\n",
       "997     30500000.0\n",
       "998            NaN\n",
       "999            NaN\n",
       "Name: Gross, Length: 1000, dtype: float64"
      ]
     },
     "execution_count": 16,
     "metadata": {},
     "output_type": "execute_result"
    }
   ],
   "source": [
    "# Очистка от ненужных символов и преобразование категориального признака Gross в числовой\n",
    "df['Gross'] = df['Gross'].replace(',', '', regex=True)\n",
    "df['Gross'] = pd.to_numeric(df['Gross'], errors='coerce')\n",
    "df['Gross']"
   ]
  },
  {
   "cell_type": "code",
   "execution_count": 19,
   "id": "7a0cad2d-b326-4591-b154-16fe16cba42b",
   "metadata": {},
   "outputs": [
    {
     "name": "stdout",
     "output_type": "stream",
     "text": [
      "<class 'pandas.core.frame.DataFrame'>\n",
      "RangeIndex: 1000 entries, 0 to 999\n",
      "Data columns (total 16 columns):\n",
      " #   Column         Non-Null Count  Dtype  \n",
      "---  ------         --------------  -----  \n",
      " 0   Poster_Link    1000 non-null   object \n",
      " 1   Series_Title   1000 non-null   object \n",
      " 2   Released_Year  999 non-null    float64\n",
      " 3   Certificate    1000 non-null   object \n",
      " 4   Runtime        1000 non-null   float64\n",
      " 5   Genre          1000 non-null   object \n",
      " 6   IMDB_Rating    1000 non-null   float64\n",
      " 7   Overview       1000 non-null   object \n",
      " 8   Meta_score     1000 non-null   float64\n",
      " 9   Director       1000 non-null   object \n",
      " 10  Star1          1000 non-null   object \n",
      " 11  Star2          1000 non-null   object \n",
      " 12  Star3          1000 non-null   object \n",
      " 13  Star4          1000 non-null   object \n",
      " 14  No_of_Votes    1000 non-null   int64  \n",
      " 15  Gross          1000 non-null   float64\n",
      "dtypes: float64(5), int64(1), object(10)\n",
      "memory usage: 125.1+ KB\n"
     ]
    }
   ],
   "source": [
    "# Заполнение пустых данных\n",
    "df['Certificate'] = df['Certificate'].fillna(df['Certificate'].mode()[0])\n",
    "df['Meta_score'] = df['Meta_score'].fillna(df['Meta_score'].median())\n",
    "df['Gross'] = df['Gross'].fillna(df['Gross'].median())\n",
    "df.info()"
   ]
  },
  {
   "cell_type": "code",
   "execution_count": null,
   "id": "f206d367-a027-4e1a-a08a-b9559c65a8a5",
   "metadata": {},
   "outputs": [],
   "source": []
  }
 ],
 "metadata": {
  "kernelspec": {
   "display_name": "Python 3 (ipykernel)",
   "language": "python",
   "name": "python3"
  },
  "language_info": {
   "codemirror_mode": {
    "name": "ipython",
    "version": 3
   },
   "file_extension": ".py",
   "mimetype": "text/x-python",
   "name": "python",
   "nbconvert_exporter": "python",
   "pygments_lexer": "ipython3",
   "version": "3.12.6"
  }
 },
 "nbformat": 4,
 "nbformat_minor": 5
}
